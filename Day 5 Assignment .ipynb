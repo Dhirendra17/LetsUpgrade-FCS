{
 "cells": [
  {
   "cell_type": "markdown",
   "metadata": {},
   "source": [
    "# Q1"
   ]
  },
  {
   "cell_type": "code",
   "execution_count": 23,
   "metadata": {},
   "outputs": [
    {
     "name": "stdout",
     "output_type": "stream",
     "text": [
      "Enter the n:\n",
      "4\n",
      "[1, 1][2, 4][3, 9][4, 16]"
     ]
    }
   ],
   "source": [
    "print(\"Enter the n:\")\n",
    "n =int(input())\n",
    "i=1\n",
    "while i<n+1:\n",
    "    print([i,i**2],end='')\n",
    "    i=1+i"
   ]
  },
  {
   "cell_type": "code",
   "execution_count": null,
   "metadata": {},
   "outputs": [],
   "source": []
  },
  {
   "cell_type": "markdown",
   "metadata": {},
   "source": [
    "# Q2"
   ]
  },
  {
   "cell_type": "code",
   "execution_count": 22,
   "metadata": {},
   "outputs": [
    {
     "name": "stdout",
     "output_type": "stream",
     "text": [
      "There starting Index:2\n",
      "There Last Index:6\n",
      "The numbers after Slicing are:\n",
      "3\n",
      "4\n",
      "5\n",
      "6\n"
     ]
    }
   ],
   "source": [
    "list_1=range(1,50)\n",
    "\n",
    "def index():\n",
    "    a=int(input(\"There starting Index:\"))\n",
    "    b=int(input(\"There Last Index:\"))\n",
    "    print('The numbers after Slicing are:')\n",
    "    for i in range(a,b):\n",
    "        print(list_1[i])\n",
    "        \n",
    "index()"
   ]
  },
  {
   "cell_type": "code",
   "execution_count": null,
   "metadata": {},
   "outputs": [],
   "source": []
  }
 ],
 "metadata": {
  "kernelspec": {
   "display_name": "Python 3",
   "language": "python",
   "name": "python3"
  },
  "language_info": {
   "codemirror_mode": {
    "name": "ipython",
    "version": 3
   },
   "file_extension": ".py",
   "mimetype": "text/x-python",
   "name": "python",
   "nbconvert_exporter": "python",
   "pygments_lexer": "ipython3",
   "version": "3.7.3"
  }
 },
 "nbformat": 4,
 "nbformat_minor": 2
}
