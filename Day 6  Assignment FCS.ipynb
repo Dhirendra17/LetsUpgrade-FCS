{
 "cells": [
  {
   "cell_type": "raw",
   "metadata": {},
   "source": [
    "\n",
    "Let us assume paper as the plane and a letter as a curve on the plane, then each letter divides\n",
    "the plane into regions. For example letters \"A\", \"D\",\"O\", \"P\", \"R\" divide the plane into two\n",
    "regions so we say these letters each have one hole. Similarly, letter \"B\" has two holes and\n",
    "letters such as \"C\",\"E\", \"F\", \"K\" have no holes. We say that the number of holes in the text is\n",
    "equal to the total number of holes in the letters of the text.\n",
    "Write a program to determine how many holes are in a given text."
   ]
  },
  {
   "cell_type": "code",
   "execution_count": 3,
   "metadata": {},
   "outputs": [
    {
     "name": "stdout",
     "output_type": "stream",
     "text": [
      "DRINKEATCODE\n",
      "5\n"
     ]
    }
   ],
   "source": [
    "s = {'A','B','D','O','P','Q','R'}\n",
    "lis=[]\n",
    "\n",
    "hole = 0\n",
    "li=input()\n",
    "\n",
    "for item in li:\n",
    "  if(item in s):\n",
    "    if(item=='B'):\n",
    "      hole=hole+2\n",
    "\n",
    "    else:\n",
    "      hole=hole+1\n",
    "\n",
    "print(hole)"
   ]
  },
  {
   "cell_type": "code",
   "execution_count": null,
   "metadata": {},
   "outputs": [],
   "source": []
  }
 ],
 "metadata": {
  "kernelspec": {
   "display_name": "Python 3",
   "language": "python",
   "name": "python3"
  },
  "language_info": {
   "codemirror_mode": {
    "name": "ipython",
    "version": 3
   },
   "file_extension": ".py",
   "mimetype": "text/x-python",
   "name": "python",
   "nbconvert_exporter": "python",
   "pygments_lexer": "ipython3",
   "version": "3.7.3"
  }
 },
 "nbformat": 4,
 "nbformat_minor": 2
}
