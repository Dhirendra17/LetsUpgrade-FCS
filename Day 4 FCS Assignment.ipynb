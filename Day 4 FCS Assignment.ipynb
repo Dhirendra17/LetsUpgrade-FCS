{
 "cells": [
  {
   "cell_type": "raw",
   "metadata": {},
   "source": [
    "WAP to identify [1,1,5] in the given list in the same order, if yes print \"It's a Match\" if no then print \"It's Gone\"\n"
   ]
  },
  {
   "cell_type": "code",
   "execution_count": 24,
   "metadata": {},
   "outputs": [
    {
     "name": "stdout",
     "output_type": "stream",
     "text": [
      "It's a Match\n"
     ]
    }
   ],
   "source": [
    "def sublist(a,b):\n",
    "    seq = iter(b)\n",
    "    try:\n",
    "        for x in a:\n",
    "            while next(seq) !=x:pass\n",
    "        else:\n",
    "            return\"It's a Match\"\n",
    "    except StopIteration:\n",
    "        pass\n",
    "    return \"It's Gone\"\n",
    "\n",
    "a=[1,1,5]\n",
    "b=[1,2,3,4,1,5,6]\n",
    "\n",
    "c=sublist(a,b)\n",
    "print(c)"
   ]
  },
  {
   "cell_type": "code",
   "execution_count": 27,
   "metadata": {},
   "outputs": [
    {
     "name": "stdout",
     "output_type": "stream",
     "text": [
      "It's a Match\n"
     ]
    }
   ],
   "source": [
    "list1=[1,5,1,7,8,9]\n",
    "list2=[1,1,5]\n",
    "flag=0\n",
    "if (all(x in list1 for x in list2)):\n",
    "    flag=1\n",
    "if (flag):\n",
    "    print(\"It's a Match\")\n",
    "else:\n",
    "    print(\"It's Gone\")\n"
   ]
  },
  {
   "cell_type": "code",
   "execution_count": null,
   "metadata": {},
   "outputs": [],
   "source": []
  },
  {
   "cell_type": "code",
   "execution_count": null,
   "metadata": {},
   "outputs": [],
   "source": []
  }
 ],
 "metadata": {
  "kernelspec": {
   "display_name": "Python 3",
   "language": "python",
   "name": "python3"
  },
  "language_info": {
   "codemirror_mode": {
    "name": "ipython",
    "version": 3
   },
   "file_extension": ".py",
   "mimetype": "text/x-python",
   "name": "python",
   "nbconvert_exporter": "python",
   "pygments_lexer": "ipython3",
   "version": "3.7.3"
  }
 },
 "nbformat": 4,
 "nbformat_minor": 2
}
