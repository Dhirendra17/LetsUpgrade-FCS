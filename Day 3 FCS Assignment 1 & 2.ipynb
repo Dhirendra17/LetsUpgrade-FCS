{
 "cells": [
  {
   "cell_type": "markdown",
   "metadata": {},
   "source": [
    "Assignment 1 WAP for taking one number a input and then using if elif else concept , assign a grade to the input number from A,B,C,D,E Fail"
   ]
  },
  {
   "cell_type": "code",
   "execution_count": 3,
   "metadata": {},
   "outputs": [
    {
     "name": "stdout",
     "output_type": "stream",
     "text": [
      "Enter The Marks:95\n",
      "Your grade is A\n"
     ]
    }
   ],
   "source": [
    "marks = (float(input(\"Enter The Marks:\")))\n",
    "if marks<=100 and marks > 90:\n",
    "    print(\"Your grade is A\")\n",
    "elif marks<=90and marks >80:\n",
    "    print(\"Your grade is B\")\n",
    "elif marks<=80and marks >70:\n",
    "    print(\"Your grade is C\")\n",
    "elif marks<=50and marks >45:\n",
    "    print(\"Your grade is D\")\n",
    "elif marks<=45and marks >35:\n",
    "    print(\"Your grade is E\")\n",
    "elif marks<=35and marks >0:\n",
    "    print(\"Fail\")"
   ]
  },
  {
   "cell_type": "markdown",
   "metadata": {},
   "source": [
    "Assignment 2 WAP that give you random Score of Team India in a cricket match ,and a player has to guess the score given by computer in between 1 to 250:\n",
    "Rules :\n",
    "\n",
    "1. If a player's guess is less than 1 or greater than 250 say \"Reduce your expectation for 20-20 Cricket\"\n",
    "\n",
    "2. On a player's input,if their score guess is\n",
    "    Within 10 of the number return \"Close By, you are True Indian Fan!\"\n",
    "    Further than 10 away from the number return \"You don't watch that much!P\"\n",
    "  "
   ]
  },
  {
   "cell_type": "code",
   "execution_count": 8,
   "metadata": {},
   "outputs": [
    {
     "name": "stdout",
     "output_type": "stream",
     "text": [
      "computer Guess:- 208\n",
      "person guess:- 273\n",
      "Reduce your expecation for 20-20 Cricket\n"
     ]
    }
   ],
   "source": [
    "import random\n",
    "\n",
    "computer_guess=random.randrange(1,250,1)\n",
    "print(\"computer Guess:-\",computer_guess)\n",
    "\n",
    "person_guess=random.randint(0,300)\n",
    "print(\"person guess:-\",person_guess)\n",
    "\n",
    "if person_guess<1 or person_guess>250:\n",
    "    print(\"Reduce your expecation for 20-20 Cricket\")\n",
    "    \n",
    "elif person_guess>=computer_guess-10 and person_guess<=computer_guess+10:\n",
    "    print(\"Close By,you are true Indian Fan!\")\n",
    "    \n",
    "else:\n",
    "    print(\"You did not watch that match:P\")"
   ]
  },
  {
   "cell_type": "code",
   "execution_count": null,
   "metadata": {},
   "outputs": [],
   "source": []
  }
 ],
 "metadata": {
  "kernelspec": {
   "display_name": "Python 3",
   "language": "python",
   "name": "python3"
  },
  "language_info": {
   "codemirror_mode": {
    "name": "ipython",
    "version": 3
   },
   "file_extension": ".py",
   "mimetype": "text/x-python",
   "name": "python",
   "nbconvert_exporter": "python",
   "pygments_lexer": "ipython3",
   "version": "3.7.3"
  }
 },
 "nbformat": 4,
 "nbformat_minor": 2
}
