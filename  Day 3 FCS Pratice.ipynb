{
 "cells": [
  {
   "cell_type": "markdown",
   "metadata": {},
   "source": [
    "# Logical Operators *(or & and)"
   ]
  },
  {
   "cell_type": "raw",
   "metadata": {},
   "source": [
    "Logical Operators work on \"True\" & \"False\""
   ]
  },
  {
   "cell_type": "code",
   "execution_count": 3,
   "metadata": {},
   "outputs": [
    {
     "data": {
      "text/plain": [
       "True"
      ]
     },
     "execution_count": 3,
     "metadata": {},
     "output_type": "execute_result"
    }
   ],
   "source": [
    "s = False\n",
    "t = True\n",
    "s or t\n"
   ]
  },
  {
   "cell_type": "code",
   "execution_count": 4,
   "metadata": {},
   "outputs": [
    {
     "data": {
      "text/plain": [
       "False"
      ]
     },
     "execution_count": 4,
     "metadata": {},
     "output_type": "execute_result"
    }
   ],
   "source": [
    "s = False\n",
    "t = True\n",
    "s and t"
   ]
  },
  {
   "cell_type": "code",
   "execution_count": 6,
   "metadata": {},
   "outputs": [
    {
     "data": {
      "text/plain": [
       "True"
      ]
     },
     "execution_count": 6,
     "metadata": {},
     "output_type": "execute_result"
    }
   ],
   "source": [
    "s = True\n",
    "t = False\n",
    "s or t"
   ]
  },
  {
   "cell_type": "code",
   "execution_count": 7,
   "metadata": {},
   "outputs": [
    {
     "data": {
      "text/plain": [
       "False"
      ]
     },
     "execution_count": 7,
     "metadata": {},
     "output_type": "execute_result"
    }
   ],
   "source": [
    "#Not\n",
    "not(s)"
   ]
  },
  {
   "cell_type": "code",
   "execution_count": 8,
   "metadata": {},
   "outputs": [
    {
     "data": {
      "text/plain": [
       "True"
      ]
     },
     "execution_count": 8,
     "metadata": {},
     "output_type": "execute_result"
    }
   ],
   "source": [
    "not(t)"
   ]
  },
  {
   "cell_type": "markdown",
   "metadata": {},
   "source": [
    "# Bitwise "
   ]
  },
  {
   "cell_type": "raw",
   "metadata": {},
   "source": [
    "Bitwise operators are  : & | ^ ~ << >>\n",
    "There work on bits : 0 & 1"
   ]
  },
  {
   "cell_type": "code",
   "execution_count": 11,
   "metadata": {},
   "outputs": [
    {
     "data": {
      "text/plain": [
       "0"
      ]
     },
     "execution_count": 11,
     "metadata": {},
     "output_type": "execute_result"
    }
   ],
   "source": [
    "s = 2 \n",
    "t = 4\n",
    "s&t"
   ]
  },
  {
   "cell_type": "code",
   "execution_count": 12,
   "metadata": {},
   "outputs": [
    {
     "data": {
      "text/plain": [
       "6"
      ]
     },
     "execution_count": 12,
     "metadata": {},
     "output_type": "execute_result"
    }
   ],
   "source": [
    "s | t"
   ]
  },
  {
   "cell_type": "markdown",
   "metadata": {},
   "source": [
    "# Is Operator"
   ]
  },
  {
   "cell_type": "code",
   "execution_count": null,
   "metadata": {},
   "outputs": [],
   "source": []
  },
  {
   "cell_type": "code",
   "execution_count": 14,
   "metadata": {},
   "outputs": [
    {
     "data": {
      "text/plain": [
       "True"
      ]
     },
     "execution_count": 14,
     "metadata": {},
     "output_type": "execute_result"
    }
   ],
   "source": [
    "a = 7\n",
    "b = 7\n",
    "a is b"
   ]
  },
  {
   "cell_type": "code",
   "execution_count": 15,
   "metadata": {},
   "outputs": [
    {
     "data": {
      "text/plain": [
       "False"
      ]
     },
     "execution_count": 15,
     "metadata": {},
     "output_type": "execute_result"
    }
   ],
   "source": [
    "a is not b"
   ]
  },
  {
   "cell_type": "markdown",
   "metadata": {},
   "source": [
    "# Conditional Exceution"
   ]
  },
  {
   "cell_type": "code",
   "execution_count": 17,
   "metadata": {},
   "outputs": [
    {
     "name": "stdout",
     "output_type": "stream",
     "text": [
      "7\n"
     ]
    }
   ],
   "source": [
    "x = 7\n",
    "if x>0:\n",
    "    print(x)"
   ]
  },
  {
   "cell_type": "code",
   "execution_count": 23,
   "metadata": {},
   "outputs": [],
   "source": [
    "a = 25\n",
    "if a==27:\n",
    "    print(\"a is \",a)\n",
    "    print(\"Hey\")\n"
   ]
  },
  {
   "cell_type": "code",
   "execution_count": 24,
   "metadata": {},
   "outputs": [
    {
     "name": "stdout",
     "output_type": "stream",
     "text": [
      "a is  27\n",
      "Hey\n"
     ]
    }
   ],
   "source": [
    "a = 27\n",
    "if a==27:\n",
    "    print(\"a is \",a)\n",
    "    print(\"Hey\")\n"
   ]
  },
  {
   "cell_type": "code",
   "execution_count": 29,
   "metadata": {},
   "outputs": [
    {
     "name": "stdout",
     "output_type": "stream",
     "text": [
      "a is not 27\n",
      "Hello World\n",
      "Letsupgrade is awesome\n"
     ]
    }
   ],
   "source": [
    "a = 25\n",
    "if a==27:\n",
    "    print(\"a is \",a)\n",
    "    print(\"Hey\")\n",
    "else:\n",
    "    print(\"a is not 27\")\n",
    "    print(\"Hello World\")\n",
    "    print(\"Letsupgrade is awesome\")\n"
   ]
  },
  {
   "cell_type": "code",
   "execution_count": 30,
   "metadata": {},
   "outputs": [
    {
     "name": "stdout",
     "output_type": "stream",
     "text": [
      "a is not 27\n",
      "Hello World\n",
      "Letsupgrade is awesome\n",
      "End of code\n"
     ]
    }
   ],
   "source": [
    "a = 25\n",
    "if a==27:\n",
    "    print(\"a is \",a)\n",
    "    print(\"Hey\")\n",
    "else:\n",
    "    print(\"a is not 27\")\n",
    "    print(\"Hello World\")\n",
    "    print(\"Letsupgrade is awesome\")\n",
    "print(\"End of code\")"
   ]
  },
  {
   "cell_type": "code",
   "execution_count": 31,
   "metadata": {},
   "outputs": [
    {
     "name": "stdout",
     "output_type": "stream",
     "text": [
      "a is  77\n",
      "Hey\n",
      "End of code\n"
     ]
    }
   ],
   "source": [
    "a = 77\n",
    "if a==77:\n",
    "    print(\"a is \",a)\n",
    "    print(\"Hey\")\n",
    "else:\n",
    "    print(\"a is not 27\")\n",
    "    print(\"Hello World\")\n",
    "    print(\"Letsupgrade is awesome\")\n",
    "print(\"End of code\")"
   ]
  },
  {
   "cell_type": "code",
   "execution_count": 32,
   "metadata": {},
   "outputs": [
    {
     "name": "stdout",
     "output_type": "stream",
     "text": [
      "a is  77\n",
      "Hey\n"
     ]
    }
   ],
   "source": [
    "a = 77\n",
    "if a==77:\n",
    "    print(\"a is \",a)\n",
    "    print(\"Hey\")\n",
    "else:\n",
    "    print(\"a is not 27\")\n",
    "    print(\"Hello World\")\n",
    "    print(\"Letsupgrade is awesome\")\n",
    "    print(\"End of code\")"
   ]
  },
  {
   "cell_type": "code",
   "execution_count": 36,
   "metadata": {},
   "outputs": [
    {
     "name": "stdout",
     "output_type": "stream",
     "text": [
      "77 is odd\n"
     ]
    }
   ],
   "source": [
    "#WAP to check if the  input is even or odd\n",
    "x = 77\n",
    "if x%2==0:\n",
    "    print(x,\"is even\")\n",
    "else:\n",
    "    print(x,\"is odd\")"
   ]
  },
  {
   "cell_type": "code",
   "execution_count": 37,
   "metadata": {},
   "outputs": [
    {
     "name": "stdout",
     "output_type": "stream",
     "text": [
      "40 is even\n"
     ]
    }
   ],
   "source": [
    "#WAP to check if the  input is even or odd\n",
    "x = 40\n",
    "if x%2==0:\n",
    "    print(x,\"is even\")\n",
    "else:\n",
    "    print(x,\"is odd\")"
   ]
  },
  {
   "cell_type": "code",
   "execution_count": 40,
   "metadata": {},
   "outputs": [
    {
     "name": "stdout",
     "output_type": "stream",
     "text": [
      "40 is equal to 40\n"
     ]
    }
   ],
   "source": [
    "#if statement\n",
    "x = 40\n",
    "if x>40:\n",
    "    print(x,\"is greater than 40\")\n",
    "else:\n",
    "    print(x,\"is equal to 40\")\n"
   ]
  },
  {
   "cell_type": "code",
   "execution_count": 41,
   "metadata": {},
   "outputs": [
    {
     "name": "stdout",
     "output_type": "stream",
     "text": [
      "40 is equal to 40\n"
     ]
    }
   ],
   "source": [
    "#Chained Conditionals\n",
    "x = 40\n",
    "if x>40:\n",
    "    print(x,\"is greater than 40\")\n",
    "elif x<40:\n",
    "    print(x,\"is less than 40\")\n",
    "else:\n",
    "    print(x,\"is equal to 40\")\n"
   ]
  },
  {
   "cell_type": "code",
   "execution_count": 1,
   "metadata": {},
   "outputs": [
    {
     "name": "stdout",
     "output_type": "stream",
     "text": [
      "40 is equal to 40\n"
     ]
    }
   ],
   "source": [
    "\n",
    "#Chained Conditionals\n",
    "x = 40\n",
    "if x>40:\n",
    "    print(x,\"is greater than 40\")\n",
    "elif x<40:\n",
    "    print(x,\"is less than 40\")\n",
    "else:\n",
    "    print(x,\"is equal to 40\")\n"
   ]
  },
  {
   "cell_type": "code",
   "execution_count": 7,
   "metadata": {},
   "outputs": [],
   "source": [
    "#No output\n",
    "a =999\n",
    "if a==15:\n",
    "    print(\"a is 15\")\n",
    "elif a==25:\n",
    "    print(\"a is 25\")\n",
    "elif a==35:\n",
    "    print(\"a is 35\")\n",
    "elif a==45:\n",
    "    print(\"a is 45\")\n",
    "    "
   ]
  },
  {
   "cell_type": "markdown",
   "metadata": {},
   "source": [
    "# Looping statement"
   ]
  },
  {
   "cell_type": "code",
   "execution_count": 15,
   "metadata": {},
   "outputs": [
    {
     "name": "stdout",
     "output_type": "stream",
     "text": [
      "1\n",
      "2\n",
      "3\n",
      "4\n",
      "5\n"
     ]
    }
   ],
   "source": [
    "n = [1,2,3,4,5]\n",
    "for i in n:\n",
    "    print(i)"
   ]
  },
  {
   "cell_type": "code",
   "execution_count": 22,
   "metadata": {},
   "outputs": [
    {
     "name": "stdout",
     "output_type": "stream",
     "text": [
      "Dhirendra\n",
      "Patil\n",
      "777\n",
      "84.8\n",
      "(8380+2j)\n"
     ]
    }
   ],
   "source": [
    "#Type the code here\n",
    "names=[\"Dhirendra\", \"Patil\",777,84.8,8380+2j]\n",
    "for i in names:\n",
    "    \n",
    "    print(i)"
   ]
  },
  {
   "cell_type": "code",
   "execution_count": 23,
   "metadata": {},
   "outputs": [
    {
     "name": "stdout",
     "output_type": "stream",
     "text": [
      "H\n",
      "e\n",
      "l\n",
      "l\n",
      "o\n",
      " \n",
      "W\n",
      "o\n",
      "r\n",
      "l\n",
      "d\n"
     ]
    }
   ],
   "source": [
    "s=\"Hello World\"\n",
    "for i in s:\n",
    "    print(i)"
   ]
  },
  {
   "cell_type": "markdown",
   "metadata": {},
   "source": [
    "# While loop"
   ]
  },
  {
   "cell_type": "code",
   "execution_count": 24,
   "metadata": {},
   "outputs": [
    {
     "name": "stdout",
     "output_type": "stream",
     "text": [
      "2\n",
      "4\n",
      "6\n",
      "8\n",
      "10\n",
      "12\n",
      "14\n",
      "16\n",
      "18\n"
     ]
    }
   ],
   "source": [
    "#Program to display even numbers in the give range\n",
    "for i in range(2,20,2):\n",
    "    print(i)"
   ]
  },
  {
   "cell_type": "code",
   "execution_count": 26,
   "metadata": {},
   "outputs": [
    {
     "name": "stdout",
     "output_type": "stream",
     "text": [
      "1\n",
      "2\n",
      "3\n",
      "4\n",
      "5\n"
     ]
    }
   ],
   "source": [
    "#While\n",
    "i = 1\n",
    "while i<=5:\n",
    "    print(i)\n",
    "    i =i+1  #i++ doesnt exist in Python"
   ]
  },
  {
   "cell_type": "code",
   "execution_count": 27,
   "metadata": {},
   "outputs": [
    {
     "name": "stdout",
     "output_type": "stream",
     "text": [
      "a\n",
      "t\n",
      "a\n",
      " \n",
      "S\n",
      "c\n",
      "i\n",
      "e\n",
      "n\n",
      "c\n",
      "e\n"
     ]
    }
   ],
   "source": [
    "s=\"Data Science\"\n",
    "i=1\n",
    "while i<len(s):\n",
    "    d =s [i]\n",
    "    print(d)\n",
    "    i=i+1"
   ]
  },
  {
   "cell_type": "code",
   "execution_count": 1,
   "metadata": {},
   "outputs": [
    {
     "name": "stdout",
     "output_type": "stream",
     "text": [
      "/n\n",
      "*/n\n",
      "**/n\n",
      "***/n\n",
      "****/n\n"
     ]
    }
   ],
   "source": [
    "#Nested if\n",
    "for i in range (5):\n",
    "    for j in range(i):\n",
    "        print(\"*\",end =\"\")\n",
    "    print(\"/n\")\n"
   ]
  },
  {
   "cell_type": "code",
   "execution_count": null,
   "metadata": {},
   "outputs": [],
   "source": []
  }
 ],
 "metadata": {
  "kernelspec": {
   "display_name": "Python 3",
   "language": "python",
   "name": "python3"
  },
  "language_info": {
   "codemirror_mode": {
    "name": "ipython",
    "version": 3
   },
   "file_extension": ".py",
   "mimetype": "text/x-python",
   "name": "python",
   "nbconvert_exporter": "python",
   "pygments_lexer": "ipython3",
   "version": "3.7.3"
  }
 },
 "nbformat": 4,
 "nbformat_minor": 2
}
